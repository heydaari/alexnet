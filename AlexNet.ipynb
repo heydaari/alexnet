{
  "nbformat": 4,
  "nbformat_minor": 0,
  "metadata": {
    "colab": {
      "provenance": [],
      "gpuType": "T4"
    },
    "kernelspec": {
      "name": "python3",
      "display_name": "Python 3"
    },
    "language_info": {
      "name": "python"
    },
    "accelerator": "GPU"
  },
  "cells": [
    {
      "cell_type": "markdown",
      "source": [
        "# AlexNet implementation in Tensorflow-Keras\n",
        "* Implemented By Mohammad Hassan Heydari\n",
        "* Based on the paper [ImageNet dataset classification with deep convolutional neural networks](https://proceedings.neurips.cc/paper/2012/hash/c399862d3b9d6b76c8436e924a68c45b-Abstract.html)\n",
        "\n",
        "\n"
      ],
      "metadata": {
        "id": "et-4rcyDVpRO"
      }
    },
    {
      "cell_type": "code",
      "execution_count": 2,
      "metadata": {
        "id": "GoPDa3tRNKFc"
      },
      "outputs": [],
      "source": [
        "# importing necessary libraries\n",
        "import tensorflow as tf\n",
        "from tensorflow import keras"
      ]
    },
    {
      "cell_type": "code",
      "source": [
        "# loading CIFAR10 dataset from keras.datasets\n",
        "\n",
        "(X_train, y_train), (X_test, y_test) = keras.datasets.cifar10.load_data()\n",
        "\n",
        "# we only use 1/5 of the whole dataset due to limitations\n",
        "X_train, y_train, X_test, y_test = X_train[:10000], y_train[:10000], X_test[:1000], y_test[:1000]\n",
        "\n",
        "y_train.resize(y_train.shape[0])\n",
        "y_test.resize(y_test.shape[0])\n",
        "\n",
        "print(X_train.shape, y_train.shape, X_test.shape, y_test.shape, sep = '\\n')"
      ],
      "metadata": {
        "colab": {
          "base_uri": "https://localhost:8080/"
        },
        "id": "k1bgtXNANifd",
        "outputId": "ff194c5f-4de7-4a30-ddaf-e89b16b47fbd"
      },
      "execution_count": 14,
      "outputs": [
        {
          "output_type": "stream",
          "name": "stdout",
          "text": [
            "(10000, 32, 32, 3)\n",
            "(10000,)\n",
            "(1000, 32, 32, 3)\n",
            "(1000,)\n"
          ]
        }
      ]
    },
    {
      "cell_type": "code",
      "source": [
        "\n",
        "# Assuming X_train and X_test are your numpy arrays of images\n",
        "# And each image in X_train and X_test is of shape (height, width, channels)\n",
        "\n",
        "def resize_images(images):\n",
        "    return tf.image.resize(images, [128, 128])\n",
        "\n",
        "X_train = resize_images(X_train)\n",
        "X_test = resize_images(X_test)\n",
        "\n",
        "print(X_train.shape, X_test.shape, sep = '\\n')"
      ],
      "metadata": {
        "colab": {
          "base_uri": "https://localhost:8080/"
        },
        "id": "yX-wsU1QPfmC",
        "outputId": "41ce4113-7b4c-46cf-d04a-ebebdd27d1ec"
      },
      "execution_count": 15,
      "outputs": [
        {
          "output_type": "stream",
          "name": "stdout",
          "text": [
            "(10000, 128, 128, 3)\n",
            "(1000, 128, 128, 3)\n"
          ]
        }
      ]
    },
    {
      "cell_type": "code",
      "source": [
        "tf.config.list_physical_devices()"
      ],
      "metadata": {
        "colab": {
          "base_uri": "https://localhost:8080/"
        },
        "id": "taDWpldHOlnr",
        "outputId": "9f520157-0ba4-4665-f4a4-6b8cf0c6c3a1"
      },
      "execution_count": 16,
      "outputs": [
        {
          "output_type": "execute_result",
          "data": {
            "text/plain": [
              "[PhysicalDevice(name='/physical_device:CPU:0', device_type='CPU'),\n",
              " PhysicalDevice(name='/physical_device:GPU:0', device_type='GPU')]"
            ]
          },
          "metadata": {},
          "execution_count": 16
        }
      ]
    },
    {
      "cell_type": "code",
      "source": [
        "# Creating AlexNet model with keras Sequential API\n",
        "model = keras.models.Sequential([\n",
        "    keras.layers.Conv2D(filters=96, kernel_size=(11,11), strides=(4,4), activation='relu', input_shape=(128,128,3)),\n",
        "    keras.layers.BatchNormalization(),\n",
        "    keras.layers.MaxPool2D(pool_size=(3,3), strides=(2,2)),\n",
        "    keras.layers.Conv2D(filters=256, kernel_size=(5,5), strides=(1,1), activation='relu', padding=\"same\"),\n",
        "    keras.layers.BatchNormalization(),\n",
        "    keras.layers.MaxPool2D(pool_size=(3,3), strides=(2,2)),\n",
        "    keras.layers.Conv2D(filters=384, kernel_size=(3,3), strides=(1,1), activation='relu', padding=\"same\"),\n",
        "    keras.layers.BatchNormalization(),\n",
        "    keras.layers.Conv2D(filters=384, kernel_size=(1,1), strides=(1,1), activation='relu', padding=\"same\"),\n",
        "    keras.layers.BatchNormalization(),\n",
        "    keras.layers.Conv2D(filters=256, kernel_size=(1,1), strides=(1,1), activation='relu', padding=\"same\"),\n",
        "    keras.layers.BatchNormalization(),\n",
        "    keras.layers.MaxPool2D(pool_size=(3,3), strides=(2,2)),\n",
        "    keras.layers.Flatten(),\n",
        "    keras.layers.Dense(4096, activation='relu'),\n",
        "    keras.layers.Dropout(0.5),\n",
        "    keras.layers.Dense(4096, activation='relu'),\n",
        "    keras.layers.Dropout(0.5),\n",
        "    keras.layers.Dense(10, activation='softmax')\n",
        "])\n",
        "\n",
        "alexnet_optimizer = optimizer=tf.optimizers.SGD(learning_rate = 0.001)\n",
        "\n",
        "model.compile(loss='sparse_categorical_crossentropy', optimizer = alexnet_optimizer,  metrics=['accuracy'])\n",
        "model.summary()"
      ],
      "metadata": {
        "colab": {
          "base_uri": "https://localhost:8080/"
        },
        "id": "eP1FvVbbO5aF",
        "outputId": "d6d5657b-67c1-4dad-f0f7-d99098cd1357"
      },
      "execution_count": 17,
      "outputs": [
        {
          "output_type": "stream",
          "name": "stdout",
          "text": [
            "Model: \"sequential_1\"\n",
            "_________________________________________________________________\n",
            " Layer (type)                Output Shape              Param #   \n",
            "=================================================================\n",
            " conv2d_5 (Conv2D)           (None, 30, 30, 96)        34944     \n",
            "                                                                 \n",
            " batch_normalization_5 (Bat  (None, 30, 30, 96)        384       \n",
            " chNormalization)                                                \n",
            "                                                                 \n",
            " max_pooling2d_3 (MaxPoolin  (None, 14, 14, 96)        0         \n",
            " g2D)                                                            \n",
            "                                                                 \n",
            " conv2d_6 (Conv2D)           (None, 14, 14, 256)       614656    \n",
            "                                                                 \n",
            " batch_normalization_6 (Bat  (None, 14, 14, 256)       1024      \n",
            " chNormalization)                                                \n",
            "                                                                 \n",
            " max_pooling2d_4 (MaxPoolin  (None, 6, 6, 256)         0         \n",
            " g2D)                                                            \n",
            "                                                                 \n",
            " conv2d_7 (Conv2D)           (None, 6, 6, 384)         885120    \n",
            "                                                                 \n",
            " batch_normalization_7 (Bat  (None, 6, 6, 384)         1536      \n",
            " chNormalization)                                                \n",
            "                                                                 \n",
            " conv2d_8 (Conv2D)           (None, 6, 6, 384)         147840    \n",
            "                                                                 \n",
            " batch_normalization_8 (Bat  (None, 6, 6, 384)         1536      \n",
            " chNormalization)                                                \n",
            "                                                                 \n",
            " conv2d_9 (Conv2D)           (None, 6, 6, 256)         98560     \n",
            "                                                                 \n",
            " batch_normalization_9 (Bat  (None, 6, 6, 256)         1024      \n",
            " chNormalization)                                                \n",
            "                                                                 \n",
            " max_pooling2d_5 (MaxPoolin  (None, 2, 2, 256)         0         \n",
            " g2D)                                                            \n",
            "                                                                 \n",
            " flatten_1 (Flatten)         (None, 1024)              0         \n",
            "                                                                 \n",
            " dense_3 (Dense)             (None, 4096)              4198400   \n",
            "                                                                 \n",
            " dropout_2 (Dropout)         (None, 4096)              0         \n",
            "                                                                 \n",
            " dense_4 (Dense)             (None, 4096)              16781312  \n",
            "                                                                 \n",
            " dropout_3 (Dropout)         (None, 4096)              0         \n",
            "                                                                 \n",
            " dense_5 (Dense)             (None, 10)                40970     \n",
            "                                                                 \n",
            "=================================================================\n",
            "Total params: 22807306 (87.00 MB)\n",
            "Trainable params: 22804554 (86.99 MB)\n",
            "Non-trainable params: 2752 (10.75 KB)\n",
            "_________________________________________________________________\n"
          ]
        }
      ]
    },
    {
      "cell_type": "code",
      "source": [
        "model.fit(X_train, y_train, validation_data = (X_test, y_test), epochs = 64)"
      ],
      "metadata": {
        "colab": {
          "base_uri": "https://localhost:8080/"
        },
        "id": "L4YNkKM0SRNY",
        "outputId": "5950de37-ff05-4298-a0ca-b289b97c1dbb"
      },
      "execution_count": 19,
      "outputs": [
        {
          "output_type": "stream",
          "name": "stdout",
          "text": [
            "Epoch 1/64\n",
            "313/313 [==============================] - 6s 18ms/step - loss: 0.6357 - accuracy: 0.7746 - val_loss: 1.2726 - val_accuracy: 0.5850\n",
            "Epoch 2/64\n",
            "313/313 [==============================] - 6s 18ms/step - loss: 0.6149 - accuracy: 0.7857 - val_loss: 1.1619 - val_accuracy: 0.6060\n",
            "Epoch 3/64\n",
            "313/313 [==============================] - 5s 17ms/step - loss: 0.5906 - accuracy: 0.7904 - val_loss: 1.1033 - val_accuracy: 0.6200\n",
            "Epoch 4/64\n",
            "313/313 [==============================] - 6s 18ms/step - loss: 0.5486 - accuracy: 0.8096 - val_loss: 1.2933 - val_accuracy: 0.5880\n",
            "Epoch 5/64\n",
            "313/313 [==============================] - 6s 18ms/step - loss: 0.5187 - accuracy: 0.8218 - val_loss: 1.2073 - val_accuracy: 0.6100\n",
            "Epoch 6/64\n",
            "313/313 [==============================] - 5s 18ms/step - loss: 0.4904 - accuracy: 0.8271 - val_loss: 1.4567 - val_accuracy: 0.5480\n",
            "Epoch 7/64\n",
            "313/313 [==============================] - 6s 18ms/step - loss: 0.4660 - accuracy: 0.8361 - val_loss: 1.6617 - val_accuracy: 0.5310\n",
            "Epoch 8/64\n",
            "313/313 [==============================] - 5s 17ms/step - loss: 0.4551 - accuracy: 0.8419 - val_loss: 1.6027 - val_accuracy: 0.5200\n",
            "Epoch 9/64\n",
            "313/313 [==============================] - 6s 18ms/step - loss: 0.4126 - accuracy: 0.8546 - val_loss: 1.1421 - val_accuracy: 0.6480\n",
            "Epoch 10/64\n",
            "313/313 [==============================] - 5s 17ms/step - loss: 0.3892 - accuracy: 0.8668 - val_loss: 1.5966 - val_accuracy: 0.5650\n",
            "Epoch 11/64\n",
            "313/313 [==============================] - 6s 18ms/step - loss: 0.3624 - accuracy: 0.8779 - val_loss: 1.3533 - val_accuracy: 0.6180\n",
            "Epoch 12/64\n",
            "313/313 [==============================] - 5s 17ms/step - loss: 0.3482 - accuracy: 0.8814 - val_loss: 1.5119 - val_accuracy: 0.5730\n",
            "Epoch 13/64\n",
            "313/313 [==============================] - 6s 18ms/step - loss: 0.3221 - accuracy: 0.8926 - val_loss: 1.2392 - val_accuracy: 0.6420\n",
            "Epoch 14/64\n",
            "313/313 [==============================] - 5s 17ms/step - loss: 0.3026 - accuracy: 0.8995 - val_loss: 1.7662 - val_accuracy: 0.5160\n",
            "Epoch 15/64\n",
            "313/313 [==============================] - 5s 17ms/step - loss: 0.2853 - accuracy: 0.9012 - val_loss: 1.3836 - val_accuracy: 0.6340\n",
            "Epoch 16/64\n",
            "313/313 [==============================] - 6s 18ms/step - loss: 0.2654 - accuracy: 0.9099 - val_loss: 1.3074 - val_accuracy: 0.6340\n",
            "Epoch 17/64\n",
            "313/313 [==============================] - 6s 18ms/step - loss: 0.2505 - accuracy: 0.9170 - val_loss: 1.5581 - val_accuracy: 0.5600\n",
            "Epoch 18/64\n",
            "313/313 [==============================] - 6s 18ms/step - loss: 0.2312 - accuracy: 0.9232 - val_loss: 1.6546 - val_accuracy: 0.5990\n",
            "Epoch 19/64\n",
            "313/313 [==============================] - 6s 18ms/step - loss: 0.2121 - accuracy: 0.9300 - val_loss: 1.7962 - val_accuracy: 0.5680\n",
            "Epoch 20/64\n",
            "313/313 [==============================] - 6s 18ms/step - loss: 0.2026 - accuracy: 0.9347 - val_loss: 2.4231 - val_accuracy: 0.5110\n",
            "Epoch 21/64\n",
            "313/313 [==============================] - 5s 17ms/step - loss: 0.1871 - accuracy: 0.9381 - val_loss: 1.3363 - val_accuracy: 0.6600\n",
            "Epoch 22/64\n",
            "313/313 [==============================] - 6s 18ms/step - loss: 0.1809 - accuracy: 0.9421 - val_loss: 1.8983 - val_accuracy: 0.5790\n",
            "Epoch 23/64\n",
            "313/313 [==============================] - 5s 17ms/step - loss: 0.1707 - accuracy: 0.9465 - val_loss: 1.4306 - val_accuracy: 0.6420\n",
            "Epoch 24/64\n",
            "313/313 [==============================] - 6s 18ms/step - loss: 0.1460 - accuracy: 0.9540 - val_loss: 1.2838 - val_accuracy: 0.6490\n",
            "Epoch 25/64\n",
            "313/313 [==============================] - 5s 17ms/step - loss: 0.1412 - accuracy: 0.9570 - val_loss: 1.4879 - val_accuracy: 0.6210\n",
            "Epoch 26/64\n",
            "313/313 [==============================] - 6s 18ms/step - loss: 0.1321 - accuracy: 0.9590 - val_loss: 1.3813 - val_accuracy: 0.6580\n",
            "Epoch 27/64\n",
            "313/313 [==============================] - 5s 17ms/step - loss: 0.1202 - accuracy: 0.9620 - val_loss: 1.5342 - val_accuracy: 0.6250\n",
            "Epoch 28/64\n",
            "313/313 [==============================] - 6s 18ms/step - loss: 0.1177 - accuracy: 0.9647 - val_loss: 1.7266 - val_accuracy: 0.6080\n",
            "Epoch 29/64\n",
            "313/313 [==============================] - 6s 19ms/step - loss: 0.1140 - accuracy: 0.9658 - val_loss: 1.4433 - val_accuracy: 0.6320\n",
            "Epoch 30/64\n",
            "313/313 [==============================] - 5s 17ms/step - loss: 0.1028 - accuracy: 0.9686 - val_loss: 1.7824 - val_accuracy: 0.6110\n",
            "Epoch 31/64\n",
            "313/313 [==============================] - 6s 18ms/step - loss: 0.1077 - accuracy: 0.9681 - val_loss: 1.5382 - val_accuracy: 0.6180\n",
            "Epoch 32/64\n",
            "313/313 [==============================] - 5s 17ms/step - loss: 0.0901 - accuracy: 0.9728 - val_loss: 1.4628 - val_accuracy: 0.6540\n",
            "Epoch 33/64\n",
            "313/313 [==============================] - 6s 18ms/step - loss: 0.0857 - accuracy: 0.9748 - val_loss: 1.4905 - val_accuracy: 0.6540\n",
            "Epoch 34/64\n",
            "313/313 [==============================] - 6s 18ms/step - loss: 0.0802 - accuracy: 0.9775 - val_loss: 1.6658 - val_accuracy: 0.6240\n",
            "Epoch 35/64\n",
            "313/313 [==============================] - 6s 18ms/step - loss: 0.0784 - accuracy: 0.9760 - val_loss: 1.7750 - val_accuracy: 0.6010\n",
            "Epoch 36/64\n",
            "313/313 [==============================] - 5s 17ms/step - loss: 0.0725 - accuracy: 0.9799 - val_loss: 1.6823 - val_accuracy: 0.6160\n",
            "Epoch 37/64\n",
            "313/313 [==============================] - 6s 18ms/step - loss: 0.0700 - accuracy: 0.9794 - val_loss: 1.5695 - val_accuracy: 0.6520\n",
            "Epoch 38/64\n",
            "313/313 [==============================] - 5s 18ms/step - loss: 0.0619 - accuracy: 0.9833 - val_loss: 1.7860 - val_accuracy: 0.6090\n",
            "Epoch 39/64\n",
            "313/313 [==============================] - 6s 18ms/step - loss: 0.0662 - accuracy: 0.9820 - val_loss: 2.1583 - val_accuracy: 0.5950\n",
            "Epoch 40/64\n",
            "313/313 [==============================] - 5s 17ms/step - loss: 0.0621 - accuracy: 0.9837 - val_loss: 1.5579 - val_accuracy: 0.6510\n",
            "Epoch 41/64\n",
            "313/313 [==============================] - 6s 18ms/step - loss: 0.0597 - accuracy: 0.9831 - val_loss: 2.0265 - val_accuracy: 0.6000\n",
            "Epoch 42/64\n",
            "313/313 [==============================] - 6s 18ms/step - loss: 0.0586 - accuracy: 0.9830 - val_loss: 1.5966 - val_accuracy: 0.6610\n",
            "Epoch 43/64\n",
            "313/313 [==============================] - 5s 18ms/step - loss: 0.0533 - accuracy: 0.9854 - val_loss: 1.6715 - val_accuracy: 0.6520\n",
            "Epoch 44/64\n",
            "313/313 [==============================] - 6s 18ms/step - loss: 0.0592 - accuracy: 0.9823 - val_loss: 1.6402 - val_accuracy: 0.6220\n",
            "Epoch 45/64\n",
            "313/313 [==============================] - 6s 18ms/step - loss: 0.0533 - accuracy: 0.9839 - val_loss: 1.6849 - val_accuracy: 0.6430\n",
            "Epoch 46/64\n",
            "313/313 [==============================] - 6s 18ms/step - loss: 0.0465 - accuracy: 0.9881 - val_loss: 1.9352 - val_accuracy: 0.6080\n",
            "Epoch 47/64\n",
            "313/313 [==============================] - 5s 17ms/step - loss: 0.0423 - accuracy: 0.9886 - val_loss: 1.8409 - val_accuracy: 0.6130\n",
            "Epoch 48/64\n",
            "313/313 [==============================] - 6s 19ms/step - loss: 0.0411 - accuracy: 0.9887 - val_loss: 1.7868 - val_accuracy: 0.6290\n",
            "Epoch 49/64\n",
            "313/313 [==============================] - 5s 17ms/step - loss: 0.0419 - accuracy: 0.9889 - val_loss: 1.5953 - val_accuracy: 0.6570\n",
            "Epoch 50/64\n",
            "313/313 [==============================] - 6s 18ms/step - loss: 0.0431 - accuracy: 0.9878 - val_loss: 1.7287 - val_accuracy: 0.6490\n",
            "Epoch 51/64\n",
            "313/313 [==============================] - 5s 17ms/step - loss: 0.0353 - accuracy: 0.9911 - val_loss: 1.7099 - val_accuracy: 0.6400\n",
            "Epoch 52/64\n",
            "313/313 [==============================] - 6s 18ms/step - loss: 0.0370 - accuracy: 0.9900 - val_loss: 2.3899 - val_accuracy: 0.5730\n",
            "Epoch 53/64\n",
            "313/313 [==============================] - 5s 17ms/step - loss: 0.0348 - accuracy: 0.9916 - val_loss: 1.6663 - val_accuracy: 0.6510\n",
            "Epoch 54/64\n",
            "313/313 [==============================] - 6s 18ms/step - loss: 0.0323 - accuracy: 0.9915 - val_loss: 1.7968 - val_accuracy: 0.6420\n",
            "Epoch 55/64\n",
            "313/313 [==============================] - 5s 18ms/step - loss: 0.0353 - accuracy: 0.9895 - val_loss: 1.6954 - val_accuracy: 0.6530\n",
            "Epoch 56/64\n",
            "313/313 [==============================] - 6s 18ms/step - loss: 0.0345 - accuracy: 0.9913 - val_loss: 1.8175 - val_accuracy: 0.6400\n",
            "Epoch 57/64\n",
            "313/313 [==============================] - 6s 18ms/step - loss: 0.0300 - accuracy: 0.9920 - val_loss: 1.6970 - val_accuracy: 0.6490\n",
            "Epoch 58/64\n",
            "313/313 [==============================] - 5s 18ms/step - loss: 0.0316 - accuracy: 0.9914 - val_loss: 2.0944 - val_accuracy: 0.6070\n",
            "Epoch 59/64\n",
            "313/313 [==============================] - 6s 19ms/step - loss: 0.0297 - accuracy: 0.9916 - val_loss: 1.9205 - val_accuracy: 0.6300\n",
            "Epoch 60/64\n",
            "313/313 [==============================] - 5s 17ms/step - loss: 0.0280 - accuracy: 0.9928 - val_loss: 1.7703 - val_accuracy: 0.6420\n",
            "Epoch 61/64\n",
            "313/313 [==============================] - 6s 18ms/step - loss: 0.0288 - accuracy: 0.9929 - val_loss: 1.7333 - val_accuracy: 0.6520\n",
            "Epoch 62/64\n",
            "313/313 [==============================] - 5s 17ms/step - loss: 0.0311 - accuracy: 0.9907 - val_loss: 1.9119 - val_accuracy: 0.6460\n",
            "Epoch 63/64\n",
            "313/313 [==============================] - 6s 18ms/step - loss: 0.0305 - accuracy: 0.9926 - val_loss: 1.7673 - val_accuracy: 0.6460\n",
            "Epoch 64/64\n",
            "313/313 [==============================] - 5s 18ms/step - loss: 0.0240 - accuracy: 0.9936 - val_loss: 1.8534 - val_accuracy: 0.6450\n"
          ]
        },
        {
          "output_type": "execute_result",
          "data": {
            "text/plain": [
              "<keras.src.callbacks.History at 0x7c1972a05e70>"
            ]
          },
          "metadata": {},
          "execution_count": 19
        }
      ]
    }
  ]
}